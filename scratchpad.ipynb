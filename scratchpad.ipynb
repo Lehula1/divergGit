{
  "cells": [
    {
      "cell_type": "markdown",
      "metadata": {
        "id": "view-in-github",
        "colab_type": "text"
      },
      "source": [
        "<a href=\"https://colab.research.google.com/github/Lehula1/divergGit/blob/main/scratchpad.ipynb\" target=\"_parent\"><img src=\"https://colab.research.google.com/assets/colab-badge.svg\" alt=\"Open In Colab\"/></a>"
      ]
    },
    {
      "cell_type": "code",
      "execution_count": null,
      "metadata": {
        "id": "lIYdn1woOS1n"
      },
      "outputs": [],
      "source": [
        "! pip install plotly\n",
        "! pip install numpy\n",
        "! pip install yfinance\n",
        "! pip install pandas_ta\n",
        "! pip install matplotlib\n",
        "! pip install ta\n",
        "! pip install finta"
      ]
    },
    {
      "cell_type": "code",
      "source": [
        "import numpy as np\n",
        "import matplotlib.pyplot as plt\n",
        "import pandas as pd\n",
        "import plotly\n",
        "from pandas_datareader import data as pdr\n",
        "import pandas_ta as ta\n",
        "import yfinance as yf\n",
        "from scipy.signal import argrelextrema\n",
        "import plotly.graph_objects as go\n",
        "from collections import deque\n",
        "from ta.momentum import StochasticOscillator\n",
        "from plotly.subplots import make_subplots\n",
        "import datetime as dt\n",
        "\n",
        "ticker = 'AMD'\n",
        "yfObj = yf.Ticker(ticker)\n",
        "data = yfObj.history(period='3mo', interval='1d')\n",
        "\n",
        "\"\"\"\n",
        "data1 = yf.download(tickers='SPY', period='30d', interval='1d')\n",
        "\n",
        "fig = go.Figure(data=[go.Candlestick(x=data1.index,\n",
        "                                     open=data1['Open'],\n",
        "                                     high=data1['High'],\n",
        "                                     low=data1['Low'],\n",
        "                                     close=data1['Close'])])\n",
        "\n",
        "\n",
        "fig.update_layout(xaxis_rangeslider_visible=False)\n",
        "fig.show()\n",
        "\"\"\"\n"
      ],
      "metadata": {
        "id": "eTgaPpUjmtgd",
        "colab": {
          "base_uri": "https://localhost:8080/",
          "height": 53
        },
        "outputId": "6c84b5ae-5886-42d9-a719-744d579d17bc"
      },
      "execution_count": 44,
      "outputs": [
        {
          "output_type": "execute_result",
          "data": {
            "text/plain": [
              "\"\\ndata1 = yf.download(tickers='SPY', period='30d', interval='1d')\\n\\nfig = go.Figure(data=[go.Candlestick(x=data1.index,\\n                                     open=data1['Open'],\\n                                     high=data1['High'],\\n                                     low=data1['Low'],\\n                                     close=data1['Close'])])\\n\\n\\nfig.update_layout(xaxis_rangeslider_visible=False)\\nfig.show()\\n\""
            ],
            "application/vnd.google.colaboratory.intrinsic+json": {
              "type": "string"
            }
          },
          "metadata": {},
          "execution_count": 44
        }
      ]
    },
    {
      "cell_type": "code",
      "source": [
        "close = data['High'].values\n",
        "dates = data.index\n",
        "max_idx = argrelextrema(data['High'].values, np.greater, order=2)[0]\n",
        "min_idx = argrelextrema(data['Low'].values, np.less, order=2)[0]\n",
        "colors = plt.rcParams['axes.prop_cycle'].by_key()['color']\n",
        "\n",
        "\n",
        "\n",
        "# Get K consecutive higher peaks\n",
        "K = 2\n",
        "highs = data.iloc[max_idx]['High']\n",
        "\n",
        "extrema = []\n",
        "count = 0\n",
        "ex_deque = deque(maxlen=K)\n",
        "for i, idx in enumerate(max_idx):\n",
        "  if i == 0:\n",
        "    ex_deque.append(idx)\n",
        "    continue\n",
        "  if highs[i] < highs[i-1]:\n",
        "    ex_deque.clear()\n",
        "   \n",
        "  ex_deque.append(idx)\n",
        "\n",
        "  if len(ex_deque) == K:\n",
        "    # K-consecutive higher highs found\n",
        "    extrema.append(ex_deque.copy())\n",
        "    #extrema count++++++++++++++++++++++++++++++++++++++++++++++++\n",
        "    print(extrema[count][0])\n",
        "    print(extrema[count][1])\n",
        "    count += 1\n",
        "\n",
        "test = data.iloc[extrema[0][0]]['High']\n",
        "\n",
        "#print(highs)\n",
        "print(data.iloc[max_idx])\n",
        "print(ex_deque)\n",
        "print(test)\n",
        "print(extrema.index)\n",
        "print(extrema[0][1])\n",
        "print(extrema[1])\n",
        "print(extrema[-1][1])\n",
        "print(extrema)\n",
        "print(max_idx)\n",
        "print(data.index[max_idx])\n",
        "print(data.iloc[max_idx,1])"
      ],
      "metadata": {
        "id": "UaAtBNXym0Qb",
        "outputId": "ec32095c-910d-45a6-fddb-1a72a6ff2d42",
        "colab": {
          "base_uri": "https://localhost:8080/"
        }
      },
      "execution_count": 45,
      "outputs": [
        {
          "output_type": "stream",
          "name": "stdout",
          "text": [
            "4\n",
            "7\n",
            "7\n",
            "10\n",
            "10\n",
            "15\n",
            "29\n",
            "39\n",
            "39\n",
            "49\n",
            "                                 Open        High        Low       Close  \\\n",
            "Date                                                                       \n",
            "2023-01-18 00:00:00-05:00   71.870003   72.779999  70.500000   70.529999   \n",
            "2023-01-23 00:00:00-05:00   72.220001   76.589996  71.540001   76.529999   \n",
            "2023-01-26 00:00:00-05:00   76.500000   77.080002  74.279999   75.160004   \n",
            "2023-02-02 00:00:00-05:00   84.290001   88.940002  83.199997   88.309998   \n",
            "2023-02-08 00:00:00-05:00   85.879997   88.000000  84.540001   84.690002   \n",
            "2023-02-14 00:00:00-05:00   82.699997   86.190002  81.769997   85.949997   \n",
            "2023-02-23 00:00:00-05:00   80.629997   81.790001  77.970001   79.750000   \n",
            "2023-03-09 00:00:00-05:00   85.290001   87.809998  83.589996   84.029999   \n",
            "2023-03-23 00:00:00-04:00  100.050003  102.430000  98.669998  100.279999   \n",
            "2023-03-30 00:00:00-04:00   98.000000   99.529999  97.250000   97.879997   \n",
            "\n",
            "                             Volume  Dividends  Stock Splits  \n",
            "Date                                                          \n",
            "2023-01-18 00:00:00-05:00  39538700        0.0           0.0  \n",
            "2023-01-23 00:00:00-05:00  84293200        0.0           0.0  \n",
            "2023-01-26 00:00:00-05:00  49583900        0.0           0.0  \n",
            "2023-02-02 00:00:00-05:00  97762100        0.0           0.0  \n",
            "2023-02-08 00:00:00-05:00  54140400        0.0           0.0  \n",
            "2023-02-14 00:00:00-05:00  55979700        0.0           0.0  \n",
            "2023-02-23 00:00:00-05:00  76391300        0.0           0.0  \n",
            "2023-03-09 00:00:00-05:00  79496700        0.0           0.0  \n",
            "2023-03-23 00:00:00-04:00  84088900        0.0           0.0  \n",
            "2023-03-30 00:00:00-04:00  59678500        0.0           0.0  \n",
            "deque([54], maxlen=2)\n",
            "72.77999877929688\n",
            "<built-in method index of list object at 0x7f2359ebf640>\n",
            "7\n",
            "deque([7, 10], maxlen=2)\n",
            "49\n",
            "[deque([4, 7], maxlen=2), deque([7, 10], maxlen=2), deque([10, 15], maxlen=2), deque([29, 39], maxlen=2), deque([39, 49], maxlen=2)]\n",
            "[ 4  7 10 15 19 23 29 39 49 54]\n",
            "DatetimeIndex(['2023-01-18 00:00:00-05:00', '2023-01-23 00:00:00-05:00',\n",
            "               '2023-01-26 00:00:00-05:00', '2023-02-02 00:00:00-05:00',\n",
            "               '2023-02-08 00:00:00-05:00', '2023-02-14 00:00:00-05:00',\n",
            "               '2023-02-23 00:00:00-05:00', '2023-03-09 00:00:00-05:00',\n",
            "               '2023-03-23 00:00:00-04:00', '2023-03-30 00:00:00-04:00'],\n",
            "              dtype='datetime64[ns, America/New_York]', name='Date', freq=None)\n",
            "Date\n",
            "2023-01-18 00:00:00-05:00     72.779999\n",
            "2023-01-23 00:00:00-05:00     76.589996\n",
            "2023-01-26 00:00:00-05:00     77.080002\n",
            "2023-02-02 00:00:00-05:00     88.940002\n",
            "2023-02-08 00:00:00-05:00     88.000000\n",
            "2023-02-14 00:00:00-05:00     86.190002\n",
            "2023-02-23 00:00:00-05:00     81.790001\n",
            "2023-03-09 00:00:00-05:00     87.809998\n",
            "2023-03-23 00:00:00-04:00    102.430000\n",
            "2023-03-30 00:00:00-04:00     99.529999\n",
            "Name: High, dtype: float64\n"
          ]
        }
      ]
    },
    {
      "cell_type": "code",
      "source": [
        "# Add some indicators\n",
        "data.ta.stoch(high='high', low='low', k=14, d=3, append=True)\n",
        "\n",
        "data.columns = [x.lower() for x in data.columns]\n",
        "\n",
        "fig=go.Figure()\n",
        "\n",
        "fig = plotly.subplots.make_subplots(rows=2, cols=1, shared_xaxes=True,\n",
        "                    vertical_spacing=0.01, \n",
        "                    row_heights=[0.5,0.4])\n",
        "\n",
        "fig.add_trace(go.Candlestick(x=data.index,\n",
        "                open=data['Open'],\n",
        "                high=data['High'],\n",
        "                low=data['Low'],\n",
        "                close=data['Close']))\n",
        "\n",
        "fig.add_trace(\n",
        "    go.Scatter(\n",
        "        mode='markers',\n",
        "        x=data.index[max_idx],\n",
        "        y=data.iloc[max_idx,1]+2,\n",
        "        marker=dict(\n",
        "            symbol='cross',\n",
        "            color='green',\n",
        "            size=10,\n",
        "         \n",
        "        )\n",
        "    )\n",
        ")\n",
        "\n",
        "fig.add_trace(\n",
        "    go.Scatter(\n",
        "        mode='markers',\n",
        "        x=data.index[min_idx],\n",
        "        y=data.iloc[min_idx,2]-2,\n",
        "        marker=dict(\n",
        "            symbol='cross',\n",
        "            color='red',\n",
        "            size=10)))\n",
        "\n",
        "fig.add_trace(\n",
        "    go.Scatter(\n",
        "        x=[data.index[extrema[-1][0]], data.index[extrema[-1][1]]],\n",
        "        y=[data.iloc[extrema[-1][0],1], data.iloc[extrema[-1][1],1]],\n",
        "        mode='lines',\n",
        "        name='trend line',\n",
        "        line=dict(color='blue')))\n",
        "\n",
        "fig.append_trace(\n",
        "    go.Scatter(\n",
        "        x=data.index,\n",
        "        y=data['stochk_14_3_3'],\n",
        "        line=dict(color='#ff9900', width=2),\n",
        "        name='fast',\n",
        "    ), row=2, col=1  #  <------------ lower chart\n",
        ")\n",
        "\n",
        "\n",
        "fig.update_xaxes(\n",
        "    rangebreaks=[\n",
        "        dict(bounds=[\"sat\", \"mon\"])] #hide weekends  \n",
        ")\n",
        "\n",
        "fig.update_layout(xaxis_rangeslider_visible=False)\n",
        "\n"
      ],
      "metadata": {
        "id": "baNO3QUvm1JD",
        "outputId": "7f15d58a-2397-4204-c965-5dcbb3402ff5",
        "colab": {
          "base_uri": "https://localhost:8080/",
          "height": 502
        }
      },
      "execution_count": 46,
      "outputs": [
        {
          "output_type": "error",
          "ename": "KeyError",
          "evalue": "ignored",
          "traceback": [
            "\u001b[0;31m---------------------------------------------------------------------------\u001b[0m",
            "\u001b[0;31mKeyError\u001b[0m                                  Traceback (most recent call last)",
            "\u001b[0;32m/usr/local/lib/python3.9/dist-packages/pandas/core/indexes/base.py\u001b[0m in \u001b[0;36mget_loc\u001b[0;34m(self, key, method, tolerance)\u001b[0m\n\u001b[1;32m   3628\u001b[0m             \u001b[0;32mtry\u001b[0m\u001b[0;34m:\u001b[0m\u001b[0;34m\u001b[0m\u001b[0;34m\u001b[0m\u001b[0m\n\u001b[0;32m-> 3629\u001b[0;31m                 \u001b[0;32mreturn\u001b[0m \u001b[0mself\u001b[0m\u001b[0;34m.\u001b[0m\u001b[0m_engine\u001b[0m\u001b[0;34m.\u001b[0m\u001b[0mget_loc\u001b[0m\u001b[0;34m(\u001b[0m\u001b[0mcasted_key\u001b[0m\u001b[0;34m)\u001b[0m\u001b[0;34m\u001b[0m\u001b[0;34m\u001b[0m\u001b[0m\n\u001b[0m\u001b[1;32m   3630\u001b[0m             \u001b[0;32mexcept\u001b[0m \u001b[0mKeyError\u001b[0m \u001b[0;32mas\u001b[0m \u001b[0merr\u001b[0m\u001b[0;34m:\u001b[0m\u001b[0;34m\u001b[0m\u001b[0;34m\u001b[0m\u001b[0m\n",
            "\u001b[0;32m/usr/local/lib/python3.9/dist-packages/pandas/_libs/index.pyx\u001b[0m in \u001b[0;36mpandas._libs.index.IndexEngine.get_loc\u001b[0;34m()\u001b[0m\n",
            "\u001b[0;32m/usr/local/lib/python3.9/dist-packages/pandas/_libs/index.pyx\u001b[0m in \u001b[0;36mpandas._libs.index.IndexEngine.get_loc\u001b[0;34m()\u001b[0m\n",
            "\u001b[0;32mpandas/_libs/hashtable_class_helper.pxi\u001b[0m in \u001b[0;36mpandas._libs.hashtable.PyObjectHashTable.get_item\u001b[0;34m()\u001b[0m\n",
            "\u001b[0;32mpandas/_libs/hashtable_class_helper.pxi\u001b[0m in \u001b[0;36mpandas._libs.hashtable.PyObjectHashTable.get_item\u001b[0;34m()\u001b[0m\n",
            "\u001b[0;31mKeyError\u001b[0m: 'stochk_14_3_3'",
            "\nThe above exception was the direct cause of the following exception:\n",
            "\u001b[0;31mKeyError\u001b[0m                                  Traceback (most recent call last)",
            "\u001b[0;32m<ipython-input-46-16f1a34c431a>\u001b[0m in \u001b[0;36m<cell line: 50>\u001b[0;34m()\u001b[0m\n\u001b[1;32m     51\u001b[0m     go.Scatter(\n\u001b[1;32m     52\u001b[0m         \u001b[0mx\u001b[0m\u001b[0;34m=\u001b[0m\u001b[0mdata\u001b[0m\u001b[0;34m.\u001b[0m\u001b[0mindex\u001b[0m\u001b[0;34m,\u001b[0m\u001b[0;34m\u001b[0m\u001b[0;34m\u001b[0m\u001b[0m\n\u001b[0;32m---> 53\u001b[0;31m         \u001b[0my\u001b[0m\u001b[0;34m=\u001b[0m\u001b[0mdata\u001b[0m\u001b[0;34m[\u001b[0m\u001b[0;34m'stochk_14_3_3'\u001b[0m\u001b[0;34m]\u001b[0m\u001b[0;34m,\u001b[0m\u001b[0;34m\u001b[0m\u001b[0;34m\u001b[0m\u001b[0m\n\u001b[0m\u001b[1;32m     54\u001b[0m         \u001b[0mline\u001b[0m\u001b[0;34m=\u001b[0m\u001b[0mdict\u001b[0m\u001b[0;34m(\u001b[0m\u001b[0mcolor\u001b[0m\u001b[0;34m=\u001b[0m\u001b[0;34m'#ff9900'\u001b[0m\u001b[0;34m,\u001b[0m \u001b[0mwidth\u001b[0m\u001b[0;34m=\u001b[0m\u001b[0;36m2\u001b[0m\u001b[0;34m)\u001b[0m\u001b[0;34m,\u001b[0m\u001b[0;34m\u001b[0m\u001b[0;34m\u001b[0m\u001b[0m\n\u001b[1;32m     55\u001b[0m         \u001b[0mname\u001b[0m\u001b[0;34m=\u001b[0m\u001b[0;34m'fast'\u001b[0m\u001b[0;34m,\u001b[0m\u001b[0;34m\u001b[0m\u001b[0;34m\u001b[0m\u001b[0m\n",
            "\u001b[0;32m/usr/local/lib/python3.9/dist-packages/pandas/core/frame.py\u001b[0m in \u001b[0;36m__getitem__\u001b[0;34m(self, key)\u001b[0m\n\u001b[1;32m   3503\u001b[0m             \u001b[0;32mif\u001b[0m \u001b[0mself\u001b[0m\u001b[0;34m.\u001b[0m\u001b[0mcolumns\u001b[0m\u001b[0;34m.\u001b[0m\u001b[0mnlevels\u001b[0m \u001b[0;34m>\u001b[0m \u001b[0;36m1\u001b[0m\u001b[0;34m:\u001b[0m\u001b[0;34m\u001b[0m\u001b[0;34m\u001b[0m\u001b[0m\n\u001b[1;32m   3504\u001b[0m                 \u001b[0;32mreturn\u001b[0m \u001b[0mself\u001b[0m\u001b[0;34m.\u001b[0m\u001b[0m_getitem_multilevel\u001b[0m\u001b[0;34m(\u001b[0m\u001b[0mkey\u001b[0m\u001b[0;34m)\u001b[0m\u001b[0;34m\u001b[0m\u001b[0;34m\u001b[0m\u001b[0m\n\u001b[0;32m-> 3505\u001b[0;31m             \u001b[0mindexer\u001b[0m \u001b[0;34m=\u001b[0m \u001b[0mself\u001b[0m\u001b[0;34m.\u001b[0m\u001b[0mcolumns\u001b[0m\u001b[0;34m.\u001b[0m\u001b[0mget_loc\u001b[0m\u001b[0;34m(\u001b[0m\u001b[0mkey\u001b[0m\u001b[0;34m)\u001b[0m\u001b[0;34m\u001b[0m\u001b[0;34m\u001b[0m\u001b[0m\n\u001b[0m\u001b[1;32m   3506\u001b[0m             \u001b[0;32mif\u001b[0m \u001b[0mis_integer\u001b[0m\u001b[0;34m(\u001b[0m\u001b[0mindexer\u001b[0m\u001b[0;34m)\u001b[0m\u001b[0;34m:\u001b[0m\u001b[0;34m\u001b[0m\u001b[0;34m\u001b[0m\u001b[0m\n\u001b[1;32m   3507\u001b[0m                 \u001b[0mindexer\u001b[0m \u001b[0;34m=\u001b[0m \u001b[0;34m[\u001b[0m\u001b[0mindexer\u001b[0m\u001b[0;34m]\u001b[0m\u001b[0;34m\u001b[0m\u001b[0;34m\u001b[0m\u001b[0m\n",
            "\u001b[0;32m/usr/local/lib/python3.9/dist-packages/pandas/core/indexes/base.py\u001b[0m in \u001b[0;36mget_loc\u001b[0;34m(self, key, method, tolerance)\u001b[0m\n\u001b[1;32m   3629\u001b[0m                 \u001b[0;32mreturn\u001b[0m \u001b[0mself\u001b[0m\u001b[0;34m.\u001b[0m\u001b[0m_engine\u001b[0m\u001b[0;34m.\u001b[0m\u001b[0mget_loc\u001b[0m\u001b[0;34m(\u001b[0m\u001b[0mcasted_key\u001b[0m\u001b[0;34m)\u001b[0m\u001b[0;34m\u001b[0m\u001b[0;34m\u001b[0m\u001b[0m\n\u001b[1;32m   3630\u001b[0m             \u001b[0;32mexcept\u001b[0m \u001b[0mKeyError\u001b[0m \u001b[0;32mas\u001b[0m \u001b[0merr\u001b[0m\u001b[0;34m:\u001b[0m\u001b[0;34m\u001b[0m\u001b[0;34m\u001b[0m\u001b[0m\n\u001b[0;32m-> 3631\u001b[0;31m                 \u001b[0;32mraise\u001b[0m \u001b[0mKeyError\u001b[0m\u001b[0;34m(\u001b[0m\u001b[0mkey\u001b[0m\u001b[0;34m)\u001b[0m \u001b[0;32mfrom\u001b[0m \u001b[0merr\u001b[0m\u001b[0;34m\u001b[0m\u001b[0;34m\u001b[0m\u001b[0m\n\u001b[0m\u001b[1;32m   3632\u001b[0m             \u001b[0;32mexcept\u001b[0m \u001b[0mTypeError\u001b[0m\u001b[0;34m:\u001b[0m\u001b[0;34m\u001b[0m\u001b[0;34m\u001b[0m\u001b[0m\n\u001b[1;32m   3633\u001b[0m                 \u001b[0;31m# If we have a listlike key, _check_indexing_error will raise\u001b[0m\u001b[0;34m\u001b[0m\u001b[0;34m\u001b[0m\u001b[0m\n",
            "\u001b[0;31mKeyError\u001b[0m: 'stochk_14_3_3'"
          ]
        }
      ]
    },
    {
      "cell_type": "code",
      "source": [],
      "metadata": {
        "id": "Es8n_eCHBF4T"
      },
      "execution_count": null,
      "outputs": []
    },
    {
      "cell_type": "code",
      "source": [],
      "metadata": {
        "id": "2r2rpu9EBKLS"
      },
      "execution_count": null,
      "outputs": []
    },
    {
      "cell_type": "code",
      "source": [
        "plt.figure(figsize=(15, 8))\n",
        "plt.plot(data['High'])\n",
        "_ = [plt.plot(dates[i], close[i], c=colors[1]) for i in extrema]\n",
        "\n",
        "\n",
        "#create figure\n",
        "plt.figure(figsize=(20,5))\n",
        "\n",
        "plt.scatter(data.iloc[max_idx].index, data.iloc[max_idx]['High']+.5,\n",
        "  label='Maxima', s=100, color='green', marker='+')\n",
        "plt.scatter(data.iloc[min_idx].index, data.iloc[min_idx]['Low']-.5,\n",
        "  label='Minima', s=100, color='red', marker='+')\n",
        "\n",
        "#define width of candlestick elements\n",
        "width = .6\n",
        "width2 = .1\n",
        "\n",
        "#define up and down prices\n",
        "up = data[data['Close']>=data['Open']]\n",
        "down = data[data['Close']<data['Open']]\n",
        "\n",
        "#define colors to use\n",
        "col1 = 'green'\n",
        "col2 = 'red'\n",
        "\n",
        "#plot up prices\n",
        "plt.bar(up.index,up['Close']-up['Open'],width,bottom=up['Open'],color=col1)\n",
        "plt.bar(up.index,up['High']-up['Close'],width2,bottom=up['Close'],color=col1)\n",
        "plt.bar(up.index,up['Low']-up['Open'],width2,bottom=up['Open'],color=col1)\n",
        "\n",
        "#plot down prices\n",
        "plt.bar(down.index,down['Close']-down['Open'],width,bottom=down['Open'],color=col2)\n",
        "plt.bar(down.index,down['High']-down['Open'],width2,bottom=down['Open'],color=col2)\n",
        "plt.bar(down.index,down['Low']-down['Close'],width2,bottom=down['Close'],color=col2)\n",
        "\n",
        "#rotate x-axis tick labels\n",
        "plt.xticks(rotation=45, ha='right')\n",
        "\n",
        "#lines\n",
        "_ = [plt.plot(dates[i], close[i], c=colors[1]) for i in extrema]\n",
        "\n",
        "plt.legend()\n",
        "#display candlestick chart\n",
        "plt.show()"
      ],
      "metadata": {
        "id": "hwJ5UKpam5n0"
      },
      "execution_count": null,
      "outputs": []
    },
    {
      "cell_type": "code",
      "source": [],
      "metadata": {
        "id": "GOh0wN_U4djt"
      },
      "execution_count": null,
      "outputs": []
    }
  ],
  "metadata": {
    "colab": {
      "name": "scratchpad",
      "provenance": [],
      "include_colab_link": true
    },
    "kernelspec": {
      "display_name": "Python 3",
      "name": "python3"
    }
  },
  "nbformat": 4,
  "nbformat_minor": 0
}